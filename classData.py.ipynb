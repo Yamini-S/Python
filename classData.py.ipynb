{
 "cells": [
  {
   "cell_type": "code",
   "execution_count": 2,
   "metadata": {
    "collapsed": false
   },
   "outputs": [],
   "source": [
    "import csv\n"
   ]
  },
  {
   "cell_type": "code",
   "execution_count": 4,
   "metadata": {
    "collapsed": false,
    "scrolled": true
   },
   "outputs": [
    {
     "name": "stdout",
     "output_type": "stream",
     "text": [
      "['No', 'GPA', 'Years of work experience', 'Latest salary (per year)', 'Highest GPA ', 'Lowest GPA', 'Coops/Internships (YN)', 'Number of contacts on Linkedin', 'Expected Salary after graduation']\n",
      "['1', '3.5', '2.5', '45000', '3.5', '3.5', 'N', '250', '90000']\n",
      "['3', '3.8', '1', '65000', '3.6', '3', 'Y', '400', '100000']\n",
      "['4', '3.8', '2', '85000', '4', '3.6', 'Y', '500', '90000']\n",
      "['5', '3.41', '1.5', '10000', '3.41', '3.33', 'N', '365', '100000']\n",
      "['6', '3.33', '5', '70000', '3.67', '3', 'Y', '400', '100000']\n",
      "['7', '3.52', '2.5', '27000', '3.58', '3.52', 'N', '230', '85000']\n",
      "['8', '3.5', '2', '40000', '3.7', '3.3', 'N', '250', '90000']\n",
      "['9', '3.5', '5', '75000', '3.53', '3.3', 'Y', '260', '100000']\n",
      "['10', '3.6', '2.5', '65000', '3.9', '3.1', 'Y', '250', '110000']\n",
      "['11', '3.2', '4', '62000', '3.8', '3', 'N', '525', '105000']\n",
      "['12', '3.5', '2', '60000', '3.5', '3.5', 'N', '400', '85000']\n",
      "['13', '3.67', '1.8', '60000', '4', '3', 'N', '920', '140000']\n",
      "['14', '3.5', '2', '60000', '3.7', '3.3', 'y', '300', '90000']\n",
      "['15', '3.47', '2.5', '70000', '3.64', '3.37', 'Y', '310', '95000']\n",
      "['16', '3.06', '1.3', '40000', '3.64', '2.67', 'Y', '550', '120000']\n",
      "['17', '3.27', '2', '60000', '4', '3', 'Y', '350', '100000']\n",
      "['18', '3.53', '4', '50000', '4', '3.3', 'N', '600', '88000']\n",
      "['19', '4', '4', '50000', '4', '4', 'Y', '500', '130000']\n",
      "['20', '3.4', '1', '30000', '3.6', '3.1', 'N', '500', '80000']\n",
      "['21', '3.54', '1', '40000', '4', '3.42', 'Y', '650', '95000']\n",
      "['22', '3.5', '2', '75000', '4', '3', 'Y', '515', '80000']\n",
      "['23', '3.5', '4', '50000', '3.8', '3.2', 'Y', '350', '110000']\n",
      "['24', '3.4', '3', '50000', '3.8', '3.2', 'Y', '301', '90000']\n",
      "['25', '3.93', '5', '', '', '', '', '', '']\n",
      "['26', '3.3', '4', '65000', '4', '3.65', 'Y', '700', '100000']\n",
      "['27', '3.9', '6', '90000', '4', '3.8', 'Y', '809', '120000']\n",
      "['28', '3.17', '1', '50000', '3.3', '3', 'N', '258', '100000']\n",
      "['29', '3.48', '3.5', '60000', '4', '3.33', 'Y', '350', '100000']\n",
      "['30', '3.93', '4', '43000', '4', '3.28', 'Y', '900', '100000']\n",
      "['31', '3.43', '4', '60000', '3.5', '3.3', 'Y', '220', '110000']\n",
      "['32', '3.33', '5', '5000', '3.66', '3', 'Y', '183', '100000']\n",
      "['33', '3.6', '1.5', '60000', '3.7', '3.4', 'Y', '340', '100000']\n",
      "['34', '3.8', '3', '65000', '3.8', '3.5', 'Y', '800', '80000']\n",
      "['35', '3.5', '3', '65000', '4', '3.6', 'Y', '400', '80000']\n",
      "['36', '3.39', '2', '60000', '3.8', '3.2', 'Y', '500', '90000']\n"
     ]
    }
   ],
   "source": [
    "classDataCSV = open(\"C:/Users/Yamini/Desktop/classData.csv\")\n",
    "csv_f = csv.reader(classDataCSV)\n",
    "\n",
    "for row in csv_f:\n",
    "  print(row)"
   ]
  },
  {
   "cell_type": "code",
   "execution_count": 5,
   "metadata": {
    "collapsed": true
   },
   "outputs": [],
   "source": [
    "import pandas as pd"
   ]
  },
  {
   "cell_type": "code",
   "execution_count": 6,
   "metadata": {
    "collapsed": true
   },
   "outputs": [],
   "source": [
    "classDataCSV_1 = pd.DataFrame.from_csv(\"C:/Users/Yamini/Desktop/classData.csv\")"
   ]
  },
  {
   "cell_type": "code",
   "execution_count": 10,
   "metadata": {
    "collapsed": false
   },
   "outputs": [
    {
     "data": {
      "text/plain": [
       "3.5"
      ]
     },
     "execution_count": 10,
     "metadata": {},
     "output_type": "execute_result"
    }
   ],
   "source": [
    "#---Min, Max, Median, Avg for GPA\n",
    "classDataCSV_1['GPA'].median()"
   ]
  },
  {
   "cell_type": "code",
   "execution_count": 11,
   "metadata": {
    "collapsed": false
   },
   "outputs": [
    {
     "data": {
      "text/plain": [
       "3.521714285714287"
      ]
     },
     "execution_count": 11,
     "metadata": {},
     "output_type": "execute_result"
    }
   ],
   "source": [
    "classDataCSV_1['GPA'].mean()"
   ]
  },
  {
   "cell_type": "code",
   "execution_count": 13,
   "metadata": {
    "collapsed": false
   },
   "outputs": [
    {
     "data": {
      "text/plain": [
       "3.0600000000000001"
      ]
     },
     "execution_count": 13,
     "metadata": {},
     "output_type": "execute_result"
    }
   ],
   "source": [
    "classDataCSV_1['GPA'].min()"
   ]
  },
  {
   "cell_type": "code",
   "execution_count": 14,
   "metadata": {
    "collapsed": false
   },
   "outputs": [
    {
     "data": {
      "text/plain": [
       "4.0"
      ]
     },
     "execution_count": 14,
     "metadata": {},
     "output_type": "execute_result"
    }
   ],
   "source": [
    "classDataCSV_1['GPA'].max()"
   ]
  },
  {
   "cell_type": "code",
   "execution_count": 15,
   "metadata": {
    "collapsed": false
   },
   "outputs": [
    {
     "data": {
      "text/plain": [
       "1.0"
      ]
     },
     "execution_count": 15,
     "metadata": {},
     "output_type": "execute_result"
    }
   ],
   "source": [
    "#--Min, Max, Median, Avg for Years of work experience\n",
    "classDataCSV_1['Years of work experience'].min()"
   ]
  },
  {
   "cell_type": "code",
   "execution_count": 16,
   "metadata": {
    "collapsed": false
   },
   "outputs": [
    {
     "data": {
      "text/plain": [
       "6.0"
      ]
     },
     "execution_count": 16,
     "metadata": {},
     "output_type": "execute_result"
    }
   ],
   "source": [
    "classDataCSV_1['Years of work experience'].max()"
   ]
  },
  {
   "cell_type": "code",
   "execution_count": 17,
   "metadata": {
    "collapsed": false
   },
   "outputs": [
    {
     "data": {
      "text/plain": [
       "2.874285714285714"
      ]
     },
     "execution_count": 17,
     "metadata": {},
     "output_type": "execute_result"
    }
   ],
   "source": [
    "classDataCSV_1['Years of work experience'].mean()"
   ]
  },
  {
   "cell_type": "code",
   "execution_count": 18,
   "metadata": {
    "collapsed": false
   },
   "outputs": [
    {
     "data": {
      "text/plain": [
       "2.5"
      ]
     },
     "execution_count": 18,
     "metadata": {},
     "output_type": "execute_result"
    }
   ],
   "source": [
    "classDataCSV_1['Years of work experience'].median()"
   ]
  },
  {
   "cell_type": "code",
   "execution_count": 26,
   "metadata": {
    "collapsed": false
   },
   "outputs": [
    {
     "data": {
      "text/plain": [
       "0    60000.0\n",
       "dtype: float64"
      ]
     },
     "execution_count": 26,
     "metadata": {},
     "output_type": "execute_result"
    }
   ],
   "source": [
    "#----Find the mode of the Salary----\n",
    "classDataCSV_1['Latest salary (per year)'].mode()"
   ]
  },
  {
   "cell_type": "code",
   "execution_count": 50,
   "metadata": {
    "collapsed": false
   },
   "outputs": [],
   "source": [
    "#----% of students having Co/op and not having Co/op"
   ]
  },
  {
   "cell_type": "code",
   "execution_count": 52,
   "metadata": {
    "collapsed": false
   },
   "outputs": [],
   "source": [
    "studentsWithoutCoop = classDataCSV_1.loc[classDataCSV_1['Coops/Internships (YN)'] == 'N'].count()\n",
    "studentswithCoop = classDataCSV_1.loc[classDataCSV_1['Coops/Internships (YN)'] == 'Y'].count()"
   ]
  },
  {
   "cell_type": "code",
   "execution_count": 40,
   "metadata": {
    "collapsed": false
   },
   "outputs": [],
   "source": [
    "totalStudents = 36"
   ]
  },
  {
   "cell_type": "code",
   "execution_count": 41,
   "metadata": {
    "collapsed": true
   },
   "outputs": [],
   "source": [
    "studentsPercent_withcoop = (studentswithCoop/totalStudents)*100"
   ]
  },
  {
   "cell_type": "code",
   "execution_count": 55,
   "metadata": {
    "collapsed": false
   },
   "outputs": [
    {
     "name": "stdout",
     "output_type": "stream",
     "text": [
      "studentsPercent_withcoop GPA                                 63.888889\n",
      "Years of work experience            63.888889\n",
      "Latest salary (per year)            63.888889\n",
      "Highest GPA                         63.888889\n",
      "Lowest GPA                          63.888889\n",
      "Coops/Internships (YN)              63.888889\n",
      "Number of contacts on Linkedin      63.888889\n",
      "Expected Salary after graduation    63.888889\n",
      "dtype: float64\n"
     ]
    }
   ],
   "source": [
    "print(\"studentsPercent_withcoop\",(studentswithCoop/totalStudents)*100)"
   ]
  },
  {
   "cell_type": "code",
   "execution_count": 54,
   "metadata": {
    "collapsed": false
   },
   "outputs": [
    {
     "name": "stdout",
     "output_type": "stream",
     "text": [
      "studentsPercent_withoutcoop GPA                                 27.777778\n",
      "Years of work experience            27.777778\n",
      "Latest salary (per year)            27.777778\n",
      "Highest GPA                         27.777778\n",
      "Lowest GPA                          27.777778\n",
      "Coops/Internships (YN)              27.777778\n",
      "Number of contacts on Linkedin      27.777778\n",
      "Expected Salary after graduation    27.777778\n",
      "dtype: float64\n"
     ]
    }
   ],
   "source": [
    "print(\"studentsPercent_withoutcoop\",(studentsWithoutCoop/totalStudents)*100)"
   ]
  },
  {
   "cell_type": "code",
   "execution_count": 64,
   "metadata": {
    "collapsed": true
   },
   "outputs": [],
   "source": [
    "#----No of students with more than 500 LinkedIn contacts\n",
    "studentsLinkedcontacts = classDataCSV_1[classDataCSV_1['Number of contacts on Linkedin']>500].count()"
   ]
  },
  {
   "cell_type": "code",
   "execution_count": 66,
   "metadata": {
    "collapsed": false
   },
   "outputs": [
    {
     "name": "stdout",
     "output_type": "stream",
     "text": [
      "Number of contacts on Linkedin GPA                                 10\n",
      "Years of work experience            10\n",
      "Latest salary (per year)            10\n",
      "Highest GPA                         10\n",
      "Lowest GPA                          10\n",
      "Coops/Internships (YN)              10\n",
      "Number of contacts on Linkedin      10\n",
      "Expected Salary after graduation    10\n",
      "dtype: int64\n"
     ]
    }
   ],
   "source": [
    "print('Number of contacts on Linkedin',studentsLinkedcontacts)"
   ]
  },
  {
   "cell_type": "code",
   "execution_count": 73,
   "metadata": {
    "collapsed": true
   },
   "outputs": [],
   "source": [
    "import numpy as np"
   ]
  },
  {
   "cell_type": "code",
   "execution_count": 87,
   "metadata": {
    "collapsed": true
   },
   "outputs": [],
   "source": [
    "classDataCSV_2 = pd.DataFrame.from_csv(\"C:/Users/Yamini/Documents/classData.csv\")"
   ]
  },
  {
   "cell_type": "code",
   "execution_count": 88,
   "metadata": {
    "collapsed": true
   },
   "outputs": [],
   "source": [
    "sortedlist = np.sort(classDataCSV_2['Expected Salary after graduation'])"
   ]
  },
  {
   "cell_type": "code",
   "execution_count": 89,
   "metadata": {
    "collapsed": false
   },
   "outputs": [
    {
     "name": "stdout",
     "output_type": "stream",
     "text": [
      "[ 80000  80000  80000  80000  85000  85000  88000  90000  90000  90000\n",
      "  90000  90000  90000  95000  95000 100000 100000 100000 100000 100000\n",
      " 100000 100000 100000 100000 100000 100000 100000 105000 110000 110000\n",
      " 110000 120000 120000 130000 140000]\n"
     ]
    }
   ],
   "source": [
    "print(sortedlist)"
   ]
  },
  {
   "cell_type": "code",
   "execution_count": 90,
   "metadata": {
    "collapsed": true
   },
   "outputs": [],
   "source": [
    "iqr = np.subtract(*np.percentile(sortedlist, [75, 25]))"
   ]
  },
  {
   "cell_type": "code",
   "execution_count": 91,
   "metadata": {
    "collapsed": false
   },
   "outputs": [
    {
     "name": "stdout",
     "output_type": "stream",
     "text": [
      "10000.0\n"
     ]
    }
   ],
   "source": [
    "print(iqr)"
   ]
  },
  {
   "cell_type": "code",
   "execution_count": 92,
   "metadata": {
    "collapsed": false
   },
   "outputs": [
    {
     "name": "stdout",
     "output_type": "stream",
     "text": [
      "Inter quartile range is: 10000.0\n"
     ]
    }
   ],
   "source": [
    "print(\"Inter quartile range is:\",iqr)"
   ]
  },
  {
   "cell_type": "code",
   "execution_count": null,
   "metadata": {
    "collapsed": true
   },
   "outputs": [],
   "source": []
  }
 ],
 "metadata": {
  "anaconda-cloud": {},
  "kernelspec": {
   "display_name": "Python [default]",
   "language": "python",
   "name": "python3"
  },
  "language_info": {
   "codemirror_mode": {
    "name": "ipython",
    "version": 3
   },
   "file_extension": ".py",
   "mimetype": "text/x-python",
   "name": "python",
   "nbconvert_exporter": "python",
   "pygments_lexer": "ipython3",
   "version": "3.5.2"
  }
 },
 "nbformat": 4,
 "nbformat_minor": 1
}
